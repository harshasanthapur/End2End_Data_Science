{
 "cells": [
  {
   "cell_type": "markdown",
   "metadata": {},
   "source": [
    "# Python Assignment"
   ]
  },
  {
   "cell_type": "markdown",
   "metadata": {},
   "source": [
    "# Questions on Strings"
   ]
  },
  {
   "cell_type": "code",
   "execution_count": 1,
   "metadata": {},
   "outputs": [
    {
     "name": "stdout",
     "output_type": "stream",
     "text": [
      " I am very keen in building up my career in Data Science , but not sure from where to start. If I search the web it throws me thousands of articles, few are relevant others make me confused, again I come around to the same page. Supervised has provided me a good platform to remove all such qualms which were wrangling in my mind\n"
     ]
    }
   ],
   "source": [
    "my_string = \" I am very keen in building up my career in Data Science , but not sure from where to start. If I search the web it throws me thousands of articles, few are relevant others make me confused, again I come around to the same page. Supervised has provided me a good platform to remove all such qualms which were wrangling in my mind\"\n",
    "print(my_string)"
   ]
  },
  {
   "cell_type": "code",
   "execution_count": 2,
   "metadata": {},
   "outputs": [
    {
     "name": "stdout",
     "output_type": "stream",
     "text": [
      "['I', 'am', 'very', 'keen', 'in', 'building', 'up', 'my', 'career', 'in', 'Data', 'Science', ',', 'but', 'not', 'sure', 'from', 'where', 'to', 'start.', 'If', 'I', 'search', 'the', 'web', 'it', 'throws', 'me', 'thousands', 'of', 'articles,', 'few', 'are', 'relevant', 'others', 'make', 'me', 'confused,', 'again', 'I', 'come', 'around', 'to', 'the', 'same', 'page.', 'Supervised', 'has', 'provided', 'me', 'a', 'good', 'platform', 'to', 'remove', 'all', 'such', 'qualms', 'which', 'were', 'wrangling', 'in', 'my', 'mind']\n"
     ]
    }
   ],
   "source": [
    "#  average length of the string\n",
    "\n",
    "string_len = my_string.split()\n",
    "print(string_len)\n"
   ]
  },
  {
   "cell_type": "code",
   "execution_count": 3,
   "metadata": {},
   "outputs": [
    {
     "data": {
      "text/plain": [
       "4.140625"
      ]
     },
     "execution_count": 3,
     "metadata": {},
     "output_type": "execute_result"
    }
   ],
   "source": [
    "average_len = sum(len(word) for word in string_len) / len(string_len)\n",
    "average_len"
   ]
  },
  {
   "cell_type": "code",
   "execution_count": 4,
   "metadata": {},
   "outputs": [
    {
     "data": {
      "text/plain": [
       "' i am very keen in building up my career in data science , but not sure from where to start. if i search the web it throws me thousands of articles, few are relevant others make me confused, again i come around to the same page. supervised has provided me a good platform to remove all such qualms which were wrangling in my mind'"
      ]
     },
     "execution_count": 4,
     "metadata": {},
     "output_type": "execute_result"
    }
   ],
   "source": [
    "# Lower the text in the string\n",
    "my_string.lower()"
   ]
  },
  {
   "cell_type": "code",
   "execution_count": 5,
   "metadata": {},
   "outputs": [
    {
     "data": {
      "text/plain": [
       "' I am very keen in building up my career in Data Science  but not sure from where to start If I search the web it throws me thousands of articles few are relevant others make me confused again I come around to the same page Supervised has provided me a good platform to remove all such qualms which were wrangling in my mind'"
      ]
     },
     "execution_count": 5,
     "metadata": {},
     "output_type": "execute_result"
    }
   ],
   "source": [
    "# Try to get the clean text removing the punctuation from the string\n",
    "import string\n",
    "my_string\n",
    "exclude = set(string.punctuation)\n",
    "s = ''.join(ch for ch in my_string if ch not in exclude)\n",
    "s"
   ]
  },
  {
   "cell_type": "code",
   "execution_count": 6,
   "metadata": {},
   "outputs": [
    {
     "data": {
      "text/plain": [
       "'Data Science'"
      ]
     },
     "execution_count": 6,
     "metadata": {},
     "output_type": "execute_result"
    }
   ],
   "source": [
    "# Extract word \"Data Science\" from the string.\n",
    "word = 'Data Science'\n",
    "indx = my_string.find(word)\n",
    "\n",
    "my_string[indx:(indx + len(word) )]"
   ]
  },
  {
   "cell_type": "code",
   "execution_count": 7,
   "metadata": {},
   "outputs": [
    {
     "name": "stdout",
     "output_type": "stream",
     "text": [
      "I appeared 3 time(s)\n",
      "I is duplicated 3 time(s)\n",
      "am appeared 1 time(s)\n",
      "very appeared 1 time(s)\n",
      "keen appeared 1 time(s)\n",
      "in appeared 3 time(s)\n",
      "in is duplicated 3 time(s)\n",
      "building appeared 1 time(s)\n",
      "up appeared 1 time(s)\n",
      "my appeared 2 time(s)\n",
      "my is duplicated 2 time(s)\n",
      "career appeared 1 time(s)\n",
      "Data appeared 1 time(s)\n",
      "Science appeared 1 time(s)\n",
      ", appeared 1 time(s)\n",
      "but appeared 1 time(s)\n",
      "not appeared 1 time(s)\n",
      "sure appeared 1 time(s)\n",
      "from appeared 1 time(s)\n",
      "where appeared 1 time(s)\n",
      "to appeared 3 time(s)\n",
      "to is duplicated 3 time(s)\n",
      "start. appeared 1 time(s)\n",
      "If appeared 1 time(s)\n",
      "search appeared 1 time(s)\n",
      "the appeared 2 time(s)\n",
      "the is duplicated 2 time(s)\n",
      "web appeared 1 time(s)\n",
      "it appeared 1 time(s)\n",
      "throws appeared 1 time(s)\n",
      "me appeared 3 time(s)\n",
      "me is duplicated 3 time(s)\n",
      "thousands appeared 1 time(s)\n",
      "of appeared 1 time(s)\n",
      "articles, appeared 1 time(s)\n",
      "few appeared 1 time(s)\n",
      "are appeared 1 time(s)\n",
      "relevant appeared 1 time(s)\n",
      "others appeared 1 time(s)\n",
      "make appeared 1 time(s)\n",
      "confused, appeared 1 time(s)\n",
      "again appeared 1 time(s)\n",
      "come appeared 1 time(s)\n",
      "around appeared 1 time(s)\n",
      "same appeared 1 time(s)\n",
      "page. appeared 1 time(s)\n",
      "Supervised appeared 1 time(s)\n",
      "has appeared 1 time(s)\n",
      "provided appeared 1 time(s)\n",
      "a appeared 1 time(s)\n",
      "good appeared 1 time(s)\n",
      "platform appeared 1 time(s)\n",
      "remove appeared 1 time(s)\n",
      "all appeared 1 time(s)\n",
      "such appeared 1 time(s)\n",
      "qualms appeared 1 time(s)\n",
      "which appeared 1 time(s)\n",
      "were appeared 1 time(s)\n",
      "wrangling appeared 1 time(s)\n",
      "mind appeared 1 time(s)\n"
     ]
    }
   ],
   "source": [
    "# Find the frequency of words used in the string.\n",
    "# Fetch the duplicate pairs used in the string.\n",
    "freq_1 = []\n",
    "for item in string_len:\n",
    "    freq = string_len.count(item)\n",
    "    if item not in freq_1:\n",
    "        freq_1.append(item)\n",
    "        print(item, 'appeared', freq, 'time(s)')  \n",
    "        if freq > 1:\n",
    "            print(item, 'is duplicated', freq, 'time(s)')\n",
    "    \n",
    "    "
   ]
  },
  {
   "cell_type": "code",
   "execution_count": 8,
   "metadata": {},
   "outputs": [
    {
     "data": {
      "text/plain": [
       "' I am very keen in building up my career in Data Science , but not sure from where to start. If I search the web it throws me thousands of articles, few are relevant others make me confused, again I come around to the same page. Unsupervised has provided me a good platform to remove all such qualms which were wrangling in my mind'"
      ]
     },
     "execution_count": 8,
     "metadata": {},
     "output_type": "execute_result"
    }
   ],
   "source": [
    " # Change the word \"Supervised\" to \"Unsupervised\" in the string\n",
    "my_string.replace('Supervised','Unsupervised')\n",
    "    "
   ]
  },
  {
   "cell_type": "code",
   "execution_count": 9,
   "metadata": {},
   "outputs": [
    {
     "data": {
      "text/plain": [
       "[' I am very keen in building up my career in Data Science , but not sure from where to start',\n",
       " ' If I search the web it throws me thousands of articles, few are relevant others make me confused, again I come around to the same page',\n",
       " ' Supervised has provided me a good platform to remove all such qualms which were wrangling in my mind']"
      ]
     },
     "execution_count": 9,
     "metadata": {},
     "output_type": "execute_result"
    }
   ],
   "source": [
    "#Splitting of the string with a dot operator(.)\n",
    "my_string.split('.')"
   ]
  },
  {
   "cell_type": "code",
   "execution_count": 10,
   "metadata": {},
   "outputs": [
    {
     "name": "stdout",
     "output_type": "stream",
     "text": [
      "Science\n",
      "sure\n",
      "where\n",
      "the\n",
      "me\n",
      "are\n",
      "make\n",
      "me\n",
      "come\n",
      "the\n",
      "same\n",
      "me\n",
      "remove\n",
      "were\n"
     ]
    }
   ],
   "source": [
    "# Find the words from the string which ends with \"e\"\n",
    "for item in string_len:\n",
    "    if item.endswith('e') == True:\n",
    "        print(item)\n",
    "    "
   ]
  },
  {
   "cell_type": "code",
   "execution_count": 11,
   "metadata": {},
   "outputs": [
    {
     "data": {
      "text/plain": [
       "22"
      ]
     },
     "execution_count": 11,
     "metadata": {},
     "output_type": "execute_result"
    }
   ],
   "source": [
    "# Figure out number of a's used in the string\n",
    "my_string.count('a')"
   ]
  },
  {
   "cell_type": "markdown",
   "metadata": {},
   "source": [
    "# Questions on Dictionary\n"
   ]
  },
  {
   "cell_type": "code",
   "execution_count": 12,
   "metadata": {},
   "outputs": [
    {
     "data": {
      "text/plain": [
       "{'apple': '250g',\n",
       " 'sugar': '500g',\n",
       " 'rice': '2.5kg',\n",
       " 'milk': '2.5l',\n",
       " 'egg': 'dozen'}"
      ]
     },
     "execution_count": 12,
     "metadata": {},
     "output_type": "execute_result"
    }
   ],
   "source": [
    "# Purchased 250g of apple, 500g of sugar, 2.5 kg of rice, 2.5 litres of milk and finally 1 dozen of egg.\n",
    "# frame the above purchase in the form of dictionary with commodities as keys to it\n",
    "\n",
    "grocery_dict = {'apple':'250g','sugar':'500g','rice':'2.5kg','milk':'2.5l','egg':'dozen'}\n",
    "grocery_dict"
   ]
  },
  {
   "cell_type": "code",
   "execution_count": 13,
   "metadata": {},
   "outputs": [
    {
     "data": {
      "text/plain": [
       "{'apple': '250g',\n",
       " 'sugar': '500g',\n",
       " 'rice': '2.5kg',\n",
       " 'milk': '2.5l',\n",
       " 'egg': 'dozen',\n",
       " 'atta': '1kg'}"
      ]
     },
     "execution_count": 13,
     "metadata": {},
     "output_type": "execute_result"
    }
   ],
   "source": [
    "# forgot to mention another item, 1kg of atta packet. Can you also add it ?\n",
    "grocery_dict['atta'] = '1kg'\n",
    "grocery_dict"
   ]
  },
  {
   "cell_type": "code",
   "execution_count": 14,
   "metadata": {},
   "outputs": [
    {
     "data": {
      "text/plain": [
       "{'apple': '250g',\n",
       " 'sugar': '500g',\n",
       " 'rice': '1kg',\n",
       " 'milk': '2.5l',\n",
       " 'egg': 'dozen',\n",
       " 'atta': '1kg'}"
      ]
     },
     "execution_count": 14,
     "metadata": {},
     "output_type": "execute_result"
    }
   ],
   "source": [
    "# Instead of 2kg of rice, I bought only 1kg of rice. Can you change the corresponding value ?\n",
    "grocery_dict['rice'] = '1kg'\n",
    "grocery_dict"
   ]
  },
  {
   "cell_type": "code",
   "execution_count": 15,
   "metadata": {},
   "outputs": [
    {
     "name": "stdout",
     "output_type": "stream",
     "text": [
      "('apple', '250g')\n",
      "('sugar', '500g')\n",
      "('rice', '1kg')\n",
      "('milk', '2.5l')\n",
      "('egg', 'dozen')\n",
      "('atta', '1kg')\n"
     ]
    }
   ],
   "source": [
    "# Can you list out all these items using a loop\n",
    "for item in grocery_dict.items():\n",
    "    print(item)"
   ]
  },
  {
   "cell_type": "code",
   "execution_count": 16,
   "metadata": {},
   "outputs": [
    {
     "name": "stdout",
     "output_type": "stream",
     "text": [
      "the cost of apple is : \n",
      "55.0\n",
      "the cost of sugar is : \n",
      "21.5\n",
      "the cost of rice is : \n",
      "112.5\n",
      "the cost of milk is : \n",
      "75.0\n",
      "the cost of egg is : \n",
      "60.0\n"
     ]
    }
   ],
   "source": [
    "# However, the cost of 1 kg apple is Rs.220, 1 kg of sugar is Rs.43, 1 Kg of rice is Rs. 45, \n",
    "# 1 litre of milk is Rs.30 and 1 dozen of egg is Rs. 60.\n",
    "\n",
    "# Create another dictionary for pricing.\n",
    "\n",
    "# Thereby, prepare a bill for me of the overall cost of the total commodities purchased by using two dictionaries !\n",
    "\n",
    "grocery_dict = {'apple':'250g','sugar':'500g','rice':'2.5kg','milk':'2.5l','egg':'1dozen'}\n",
    "cost_dict = {'apple':'220','sugar':'43','rice':'45','milk':'30','egg':'60'}\n",
    "cost_dict\n",
    "def conv_grams_2_kg(a):\n",
    "    return a/1000\n",
    "mm = 0\n",
    "nn = 0\n",
    "for key1,value1 in grocery_dict.items():\n",
    "    for key2,value2 in cost_dict.items():\n",
    "        if key1 == key2:\n",
    "            if value1.endswith('kg'):                \n",
    "                mm = float(value1.replace('kg',''))            \n",
    "                nn = float(mm*float(value2))                \n",
    "                print(\"the cost of \" + key1 + \" is : \" ) \n",
    "                print(nn)\n",
    "            elif value1.endswith('g'):                \n",
    "                a = conv_grams_2_kg(float(value1.replace('g','')))\n",
    "                mm = float(a)\n",
    "                nn = float(mm*float(value2))\n",
    "                print(\"the cost of \" + key1 + \" is : \" ) \n",
    "                print(nn)\n",
    "            elif value1.endswith('dozen'):                \n",
    "                mm = float(value1.replace('dozen',''))\n",
    "                nn = float(mm*float(value2))\n",
    "                print(\"the cost of \" + key1 + \" is : \" ) \n",
    "                print(nn)\n",
    "            elif value1.endswith('l'):                \n",
    "                mm = float(value1.replace('l',''))\n",
    "                nn = float(mm*float(value2))\n",
    "                print(\"the cost of \" + key1 + \" is : \" ) \n",
    "                print(nn)\n",
    "        "
   ]
  },
  {
   "cell_type": "markdown",
   "metadata": {},
   "source": [
    "# Questions on List\n"
   ]
  },
  {
   "cell_type": "code",
   "execution_count": 22,
   "metadata": {},
   "outputs": [],
   "source": [
    "AI_Companies = ['Amazon','Facebook','HiSilicon','Google','Apple','Microsoft','SenseTime']\n"
   ]
  },
  {
   "cell_type": "code",
   "execution_count": 24,
   "metadata": {},
   "outputs": [
    {
     "name": "stdout",
     "output_type": "stream",
     "text": [
      "['Amazon', 'Apple', 'Facebook', 'Google', 'HiSilicon', 'Microsoft', 'SenseTime']\n"
     ]
    }
   ],
   "source": [
    "# Sort the list in ascending order\n",
    "AI_Companies.sort()\n",
    "print(AI_Companies)\n"
   ]
  },
  {
   "cell_type": "code",
   "execution_count": 32,
   "metadata": {},
   "outputs": [
    {
     "name": "stdout",
     "output_type": "stream",
     "text": [
      "['Amazon', 'Facebook', 'HiSilicon', 'Google', 'Apple', 'Microsoft', 'SenseTime', ['Nvidia', 'OpenAI', 'Qualcomm', 'Reliance']]\n"
     ]
    }
   ],
   "source": [
    "# Add multiple companies at once 'Nvidia', 'OpenAI' , 'Qualcomm' and 'Reliance' to the list\n",
    "AI_Companies = ['Amazon','Facebook','HiSilicon','Google','Apple','Microsoft','SenseTime']\n",
    "AI_Companies.append(['Nvidia','OpenAI','Qualcomm', 'Reliance'])\n",
    "print(AI_Companies)"
   ]
  },
  {
   "cell_type": "code",
   "execution_count": 35,
   "metadata": {},
   "outputs": [
    {
     "ename": "AttributeError",
     "evalue": "'list' object has no attribute 'lower'",
     "output_type": "error",
     "traceback": [
      "\u001b[1;31m---------------------------------------------------------------------------\u001b[0m",
      "\u001b[1;31mAttributeError\u001b[0m                            Traceback (most recent call last)",
      "\u001b[1;32m<ipython-input-35-b084dcf244eb>\u001b[0m in \u001b[0;36m<module>\u001b[1;34m\u001b[0m\n\u001b[0;32m      1\u001b[0m \u001b[1;31m# Lower the list using List comprehension\u001b[0m\u001b[1;33m\u001b[0m\u001b[1;33m\u001b[0m\u001b[1;33m\u001b[0m\u001b[0m\n\u001b[1;32m----> 2\u001b[1;33m \u001b[0mAI_Companies_lower\u001b[0m \u001b[1;33m=\u001b[0m \u001b[0mAI_Companies\u001b[0m\u001b[1;33m.\u001b[0m\u001b[0mlower\u001b[0m\u001b[1;33m(\u001b[0m\u001b[1;33m)\u001b[0m\u001b[1;33m\u001b[0m\u001b[1;33m\u001b[0m\u001b[0m\n\u001b[0m\u001b[0;32m      3\u001b[0m \u001b[0mAI_Companies_lower\u001b[0m\u001b[1;33m\u001b[0m\u001b[1;33m\u001b[0m\u001b[0m\n",
      "\u001b[1;31mAttributeError\u001b[0m: 'list' object has no attribute 'lower'"
     ]
    }
   ],
   "source": [
    "# Lower the list using List comprehension\n",
    "AI_Companies_lower = AI_Companies.lower()\n",
    "AI_Companies_lower"
   ]
  },
  {
   "cell_type": "code",
   "execution_count": null,
   "metadata": {},
   "outputs": [],
   "source": []
  }
 ],
 "metadata": {
  "kernelspec": {
   "display_name": "Python 3",
   "language": "python",
   "name": "python3"
  },
  "language_info": {
   "codemirror_mode": {
    "name": "ipython",
    "version": 3
   },
   "file_extension": ".py",
   "mimetype": "text/x-python",
   "name": "python",
   "nbconvert_exporter": "python",
   "pygments_lexer": "ipython3",
   "version": "3.7.4"
  }
 },
 "nbformat": 4,
 "nbformat_minor": 2
}
