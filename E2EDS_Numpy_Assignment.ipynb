{
 "cells": [
  {
   "cell_type": "markdown",
   "metadata": {},
   "source": [
    "# Assignment on Numpy"
   ]
  },
  {
   "cell_type": "code",
   "execution_count": 2,
   "metadata": {},
   "outputs": [
    {
     "name": "stdout",
     "output_type": "stream",
     "text": [
      "[0 1 2 3 4 5 6 7 8 9]\n"
     ]
    }
   ],
   "source": [
    "# Create a 1D array of numbers from 0 to 9.\n",
    "\n",
    "import numpy as np\n",
    "x = np.arange(10)\n",
    "\n",
    "print(x)"
   ]
  },
  {
   "cell_type": "code",
   "execution_count": 3,
   "metadata": {},
   "outputs": [
    {
     "name": "stdout",
     "output_type": "stream",
     "text": [
      "[[ True  True  True]\n",
      " [ True  True  True]\n",
      " [ True  True  True]]\n"
     ]
    }
   ],
   "source": [
    "# Create a 3×3 numpy array of all True’s\n",
    "\n",
    "y = np.full((3,3),True)\n",
    "print(y)"
   ]
  },
  {
   "cell_type": "code",
   "execution_count": 7,
   "metadata": {},
   "outputs": [
    {
     "name": "stdout",
     "output_type": "stream",
     "text": [
      "[1, 3, 5, 7, 9, 11]\n"
     ]
    }
   ],
   "source": [
    "# Given an array as input, print only odd numbers as output\n",
    "arr = [ 1,2,3,4,5,6,7,8,9,11]\n",
    "odd_arr = []\n",
    "for i in range(0, len(arr)):\n",
    "    if arr[i]%2!=0:\n",
    "        odd_arr.append(arr[i])\n",
    "print(odd_arr)\n",
    "        \n"
   ]
  },
  {
   "cell_type": "code",
   "execution_count": 8,
   "metadata": {},
   "outputs": [
    {
     "name": "stdout",
     "output_type": "stream",
     "text": [
      "[-2, 2, -2, 4, -2, 6, -2, 8, -2, -2]\n"
     ]
    }
   ],
   "source": [
    "# Replace all odd numbers in arr with -2\n",
    "arr = [ 1,2,3,4,5,6,7,8,9,11]\n",
    "# odd_arr = []\n",
    "for i in range(0, len(arr)):\n",
    "    if arr[i]%2!=0:\n",
    "        arr[i] = -2\n",
    "print(arr)\n"
   ]
  },
  {
   "cell_type": "code",
   "execution_count": 12,
   "metadata": {},
   "outputs": [
    {
     "name": "stdout",
     "output_type": "stream",
     "text": [
      "before reshape :\n",
      " [[2 3 4]\n",
      " [5 6 7]]\n",
      "after reshape:\n",
      " [[2 3]\n",
      " [4 5]\n",
      " [6 7]]\n"
     ]
    }
   ],
   "source": [
    "# How to reshape an array?\n",
    "\n",
    "xx = np.array([[2,3,4], [5,6,7]])      \n",
    "yy = np.reshape(xx, (3, 2))\n",
    "print(\"before reshape :\\n\", xx)\n",
    "\n",
    "print(\"after reshape:\\n\", yy)"
   ]
  },
  {
   "cell_type": "code",
   "execution_count": 15,
   "metadata": {},
   "outputs": [
    {
     "name": "stdout",
     "output_type": "stream",
     "text": [
      "[[0 1 2 3 4]\n",
      " [5 6 7 8 9]]\n"
     ]
    }
   ],
   "source": [
    "# Convert a 1D array to a 2D array with 2 rows\n",
    "\n",
    "x = np.arange(10)\n",
    "\n",
    "array_2 = np.reshape(x,(2,5))\n",
    "print(array_2)"
   ]
  },
  {
   "cell_type": "code",
   "execution_count": 18,
   "metadata": {},
   "outputs": [
    {
     "name": "stdout",
     "output_type": "stream",
     "text": [
      "b: [1, 3, 4, 5, 7, 8, 9]\n"
     ]
    }
   ],
   "source": [
    "#  Given an array  a  = [1,2,3,4,5,6,7,8,9] , create  new array b from a such that b includes all odd numbers and 4 multiples.\n",
    "\n",
    "a = [1,2,3,4,5,6,7,8,9]\n",
    "b =  []\n",
    "for i in range(0, len(a)):\n",
    "    if a[i]%2!=0 or a[i]%4==0:\n",
    "        b.append(arr[i])\n",
    "print(\"b:\", b)"
   ]
  },
  {
   "cell_type": "code",
   "execution_count": 31,
   "metadata": {},
   "outputs": [
    {
     "name": "stdout",
     "output_type": "stream",
     "text": [
      "[ 5.  7.  9. 11. 13. 15. 17. 19. nan]\n",
      "[False False False False False False False False  True]\n",
      "index of NaN: [[8]]\n"
     ]
    }
   ],
   "source": [
    "# Given array, check if there are any null values and print them out\n",
    "\n",
    "a = np.array(range(5,20,2))\n",
    "b = np.append(a, np.nan)\n",
    "print(b)\n",
    "c = np.isnan(b)\n",
    "d =np.argwhere(c)\n",
    "print(c)\n",
    "print(\"index of NaN:\", d)"
   ]
  },
  {
   "cell_type": "code",
   "execution_count": 40,
   "metadata": {},
   "outputs": [
    {
     "name": "stdout",
     "output_type": "stream",
     "text": [
      "[ 5.  7.  9. 11. 13. 15. 17. 19.  0.]\n"
     ]
    }
   ],
   "source": [
    "# How to replace all missing values with 0 in a numpy array?\n",
    "\n",
    "a = np.array(range(5,20,2))\n",
    "b = np.append(a, np.nan)\n",
    "b[np.isnan(b)] = 0\n",
    "print(b)\n",
    "\n",
    "# print(np.where(array1=='nan', 0, array1))"
   ]
  },
  {
   "cell_type": "code",
   "execution_count": 47,
   "metadata": {},
   "outputs": [
    {
     "name": "stdout",
     "output_type": "stream",
     "text": [
      "unique values:  [ 1  2  3  4  5  6  7  8  9 11]\n",
      "Count :  [1 1 2 1 1 2 1 1 3 4]\n"
     ]
    }
   ],
   "source": [
    "# How to find the count of each unique number in a NumPy array?\n",
    "\n",
    "arr_1 = [1, 2, 3,3, 4, 5, 6,6, 7, 8, 9,9,9,11,11,11, 11]\n",
    "aa,bb = np.unique(arr_1, return_counts=True)\n",
    "print(\"unique values: \", aa)\n",
    "print(\"Count : \", bb)"
   ]
  },
  {
   "cell_type": "code",
   "execution_count": 49,
   "metadata": {},
   "outputs": [
    {
     "data": {
      "text/plain": [
       "array('i', [2, 4, 6, 8])"
      ]
     },
     "execution_count": 49,
     "metadata": {},
     "output_type": "execute_result"
    }
   ],
   "source": [
    "#  How to convert a numeric to a categorical (text) array?\n",
    "\n",
    "import array as arr\n",
    "a = arr.array('i', [2, 4, 6, 8])\n",
    "a"
   ]
  },
  {
   "cell_type": "code",
   "execution_count": 51,
   "metadata": {},
   "outputs": [
    {
     "name": "stdout",
     "output_type": "stream",
     "text": [
      "b: [100, 110, 112, 115, 119, 120, 125, 126, 130, 133, 135, 145, 147, 150, 154, 155, 160, 161, 165, 168, 170, 180, 182, 185, 189, 190, 195, 196, 200, 203, 205, 215, 217, 220, 224, 225, 230, 231, 235, 238, 240, 250, 252, 255, 259, 260, 265, 266, 270, 273, 275, 285, 287, 290, 294, 295]\n"
     ]
    }
   ],
   "source": [
    "# Write a program to print all numbers between 99 and 299 which are either divisible by 5 or 7. \n",
    "# Exclude the elements which are divisible by both\n",
    "a = np.arange(99,300)\n",
    "b =  []\n",
    "for i in range(0, len(a)):\n",
    "    if (a[i]%5==0 or a[i]%7==0) and a[i]%(7*5)!=0:\n",
    "        b.append(a[i])\n",
    "print(\"b:\", b)"
   ]
  },
  {
   "cell_type": "code",
   "execution_count": 53,
   "metadata": {},
   "outputs": [
    {
     "name": "stdout",
     "output_type": "stream",
     "text": [
      "[11, 9, 8, 7, 6, 5, 4, 3, 2, 1]\n"
     ]
    }
   ],
   "source": [
    "# Write a program to reverse an array and print (Don’t use inbuilt reverse functions)\n",
    "\n",
    "arr = [ 1,2,3,4,5,6,7,8,9,11]\n",
    "\n",
    "bb = []\n",
    "for i in range(0, len(arr)):\n",
    "    bb.append(arr[len(arr)-i-1])\n",
    "print(bb)"
   ]
  },
  {
   "cell_type": "code",
   "execution_count": null,
   "metadata": {},
   "outputs": [],
   "source": []
  }
 ],
 "metadata": {
  "kernelspec": {
   "display_name": "Python 3",
   "language": "python",
   "name": "python3"
  },
  "language_info": {
   "codemirror_mode": {
    "name": "ipython",
    "version": 3
   },
   "file_extension": ".py",
   "mimetype": "text/x-python",
   "name": "python",
   "nbconvert_exporter": "python",
   "pygments_lexer": "ipython3",
   "version": "3.7.4"
  }
 },
 "nbformat": 4,
 "nbformat_minor": 2
}
